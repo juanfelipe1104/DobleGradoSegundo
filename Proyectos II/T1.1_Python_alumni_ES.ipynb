{
 "cells": [
  {
   "cell_type": "markdown",
   "metadata": {},
   "source": [
    "# Introducción\n",
    "\n",
    "![alt text](https://www.python.org/static/img/python-logo@2x.png \"Logo python\")\n",
    "\n",
    "- Lenguaje de programación de alto nivel.\n",
    "- Multiplataforma\n",
    "- Multiparadigma\n",
    "    - Imperativo y/o Procedural\n",
    "    - Orientado a objetos\n",
    "    - Funcional (limitado)\n",
    "- Interpretado\n",
    "    - Precompilado (.pyc)\n",
    "    - Modo interactivo: Interprete de comandos."
   ]
  },
  {
   "cell_type": "markdown",
   "metadata": {},
   "source": [
    "# Conceptos básicos\n",
    "## Bloques de código\n",
    "\n",
    "- Indentación obligatoria\n",
    "    - No existen las llaves `{ }` para delimitar los bloques de código. Se utiliza `:` despues de la cabecera del bloque de código.\n",
    "    - Los bloques de código son delimitados mediante indentación.\n",
    "- No hay puntos y coma `;` al final de las líneas de código."
   ]
  },
  {
   "cell_type": "code",
   "execution_count": 5,
   "metadata": {
    "collapsed": true
   },
   "outputs": [
    {
     "data": {
      "text/plain": [
       "24"
      ]
     },
     "execution_count": 5,
     "metadata": {},
     "output_type": "execute_result"
    }
   ],
   "source": [
    "def factorial(x):\n",
    "    if x == 0:\n",
    "        return 1\n",
    "    else:\n",
    "        return x*factorial(x-1)\n",
    "    \n",
    "# Cual es el factorial de 4?\n",
    "# TODO\n",
    "factorial(4)"
   ]
  },
  {
   "cell_type": "markdown",
   "metadata": {},
   "source": [
    "## Tipado dinámico\n",
    "Por defecto, el tipo de las variables es definido dinámicamente."
   ]
  },
  {
   "cell_type": "code",
   "execution_count": 11,
   "metadata": {},
   "outputs": [
    {
     "data": {
      "text/plain": [
       "int"
      ]
     },
     "execution_count": 11,
     "metadata": {},
     "output_type": "execute_result"
    }
   ],
   "source": [
    "var = 12\n",
    "type(var)"
   ]
  },
  {
   "cell_type": "code",
   "execution_count": 13,
   "metadata": {},
   "outputs": [
    {
     "data": {
      "text/plain": [
       "13"
      ]
     },
     "execution_count": 13,
     "metadata": {},
     "output_type": "execute_result"
    }
   ],
   "source": [
    "var + 1"
   ]
  },
  {
   "cell_type": "code",
   "execution_count": 14,
   "metadata": {},
   "outputs": [
    {
     "data": {
      "text/plain": [
       "str"
      ]
     },
     "execution_count": 14,
     "metadata": {},
     "output_type": "execute_result"
    }
   ],
   "source": [
    "var = 'doce'\n",
    "type(var)"
   ]
  },
  {
   "cell_type": "code",
   "execution_count": 15,
   "metadata": {},
   "outputs": [
    {
     "ename": "TypeError",
     "evalue": "can only concatenate str (not \"int\") to str",
     "output_type": "error",
     "traceback": [
      "\u001b[1;31m---------------------------------------------------------------------------\u001b[0m",
      "\u001b[1;31mTypeError\u001b[0m                                 Traceback (most recent call last)",
      "Cell \u001b[1;32mIn[15], line 1\u001b[0m\n\u001b[1;32m----> 1\u001b[0m var \u001b[38;5;241m+\u001b[39m \u001b[38;5;241m1\u001b[39m\n",
      "\u001b[1;31mTypeError\u001b[0m: can only concatenate str (not \"int\") to str"
     ]
    }
   ],
   "source": [
    "var + 1"
   ]
  },
  {
   "cell_type": "markdown",
   "metadata": {},
   "source": [
    "## Tipos de datos"
   ]
  },
  {
   "cell_type": "markdown",
   "metadata": {},
   "source": [
    "### Boleano\n",
    "\n",
    "```python\n",
    "True\n",
    "False\n",
    "```"
   ]
  },
  {
   "cell_type": "markdown",
   "metadata": {},
   "source": [
    "### Cadena\n",
    "```python\n",
    "# cadena\n",
    "'cadena'\n",
    "# unicode\n",
    "u'cadena'\n",
    "```"
   ]
  },
  {
   "cell_type": "markdown",
   "metadata": {},
   "source": [
    "### Número entero\n",
    "```python\n",
    "23\n",
    "```"
   ]
  },
  {
   "cell_type": "markdown",
   "metadata": {},
   "source": [
    "### Número real\n",
    "```python\n",
    "# coma flotante\n",
    "3.14\n",
    "# coma flotante de mayor precisión\n",
    "Decimal(3.14)\n",
    "```"
   ]
  },
  {
   "cell_type": "code",
   "execution_count": 17,
   "metadata": {},
   "outputs": [
    {
     "data": {
      "text/plain": [
       "0.30000000000000004"
      ]
     },
     "execution_count": 17,
     "metadata": {},
     "output_type": "execute_result"
    }
   ],
   "source": [
    "0.1+0.2"
   ]
  },
  {
   "cell_type": "code",
   "execution_count": 19,
   "metadata": {},
   "outputs": [
    {
     "data": {
      "text/plain": [
       "Decimal('0.3000000000000000166533453694')"
      ]
     },
     "execution_count": 19,
     "metadata": {},
     "output_type": "execute_result"
    }
   ],
   "source": [
    "from decimal import Decimal\n",
    "\n",
    "Decimal(0.1)+Decimal(0.2)"
   ]
  },
  {
   "cell_type": "code",
   "execution_count": 20,
   "metadata": {},
   "outputs": [
    {
     "data": {
      "text/plain": [
       "3.141592653589793"
      ]
     },
     "execution_count": 20,
     "metadata": {},
     "output_type": "execute_result"
    }
   ],
   "source": [
    "import math\n",
    "math.pi"
   ]
  },
  {
   "cell_type": "code",
   "execution_count": 21,
   "metadata": {},
   "outputs": [
    {
     "data": {
      "text/plain": [
       "Decimal('3.141592653589793115997963468544185161590576171875')"
      ]
     },
     "execution_count": 21,
     "metadata": {},
     "output_type": "execute_result"
    }
   ],
   "source": [
    "# coma flotante\n",
    "from decimal import Decimal\n",
    "Decimal(math.pi)"
   ]
  },
  {
   "cell_type": "markdown",
   "metadata": {},
   "source": [
    "### Número complejo\n",
    "```python\n",
    "5.4+2j\n",
    "```"
   ]
  },
  {
   "cell_type": "markdown",
   "metadata": {},
   "source": [
    "## Tipado estático: Type Hints\n",
    "Uso de anotaciones para indicar de forma estática el tipado de las variables.\n",
    "\n",
    "```python\n",
    "# variable numero con tipo entero sin inicializar\n",
    "numero: int\n",
    "# variable numero con tipo entero inicializado\n",
    "numero: int = 23\n",
    "```\n",
    "No existe comprobación en tiempo de ejecución y el mismo error se producirá con o sin anotación. Se necesita una herramienta adicional que realice las comprobaciones previamente como el *linter mypy*"
   ]
  },
  {
   "cell_type": "code",
   "execution_count": 22,
   "metadata": {},
   "outputs": [
    {
     "ename": "TypeError",
     "evalue": "unsupported operand type(s) for +: 'int' and 'str'",
     "output_type": "error",
     "traceback": [
      "\u001b[1;31m---------------------------------------------------------------------------\u001b[0m",
      "\u001b[1;31mTypeError\u001b[0m                                 Traceback (most recent call last)",
      "Cell \u001b[1;32mIn[22], line 2\u001b[0m\n\u001b[0;32m      1\u001b[0m numero: \u001b[38;5;28mint\u001b[39m \u001b[38;5;241m=\u001b[39m \u001b[38;5;241m45\u001b[39m\n\u001b[1;32m----> 2\u001b[0m numero \u001b[38;5;241m+\u001b[39m \u001b[38;5;124m\"\u001b[39m\u001b[38;5;124mhola\u001b[39m\u001b[38;5;124m\"\u001b[39m\n",
      "\u001b[1;31mTypeError\u001b[0m: unsupported operand type(s) for +: 'int' and 'str'"
     ]
    }
   ],
   "source": [
    "numero: int = 45\n",
    "numero + \"hola\""
   ]
  },
  {
   "cell_type": "code",
   "execution_count": 23,
   "metadata": {},
   "outputs": [
    {
     "ename": "TypeError",
     "evalue": "unsupported operand type(s) for +: 'int' and 'str'",
     "output_type": "error",
     "traceback": [
      "\u001b[1;31m---------------------------------------------------------------------------\u001b[0m",
      "\u001b[1;31mTypeError\u001b[0m                                 Traceback (most recent call last)",
      "Cell \u001b[1;32mIn[23], line 2\u001b[0m\n\u001b[0;32m      1\u001b[0m numero \u001b[38;5;241m=\u001b[39m \u001b[38;5;241m45\u001b[39m\n\u001b[1;32m----> 2\u001b[0m numero \u001b[38;5;241m+\u001b[39m \u001b[38;5;124m\"\u001b[39m\u001b[38;5;124mhola\u001b[39m\u001b[38;5;124m\"\u001b[39m\n",
      "\u001b[1;31mTypeError\u001b[0m: unsupported operand type(s) for +: 'int' and 'str'"
     ]
    }
   ],
   "source": [
    "numero = 45\n",
    "numero + \"hola\""
   ]
  },
  {
   "cell_type": "markdown",
   "metadata": {},
   "source": [
    "Se pueden realizar anotaciones para permitir más de un tipo. El uso más habitual es para anotar que una variable puede ser de un tipo determinado y también None"
   ]
  },
  {
   "cell_type": "code",
   "execution_count": 24,
   "metadata": {},
   "outputs": [],
   "source": [
    "variable: str | None = 45\n",
    "variable: str | int = 45"
   ]
  },
  {
   "cell_type": "markdown",
   "metadata": {},
   "source": [
    "Tambien se puede realizar una anotación para indicar que el tipado es dinámico"
   ]
  },
  {
   "cell_type": "code",
   "execution_count": 25,
   "metadata": {},
   "outputs": [],
   "source": [
    "from typing import Any\n",
    "variable: Any = 45"
   ]
  },
  {
   "cell_type": "markdown",
   "metadata": {},
   "source": [
    "El resto de anotaciones para tipado estático lo iremos viendo según vamos introducciendo las estructuras de datos, funciones y clases."
   ]
  },
  {
   "cell_type": "markdown",
   "metadata": {},
   "source": [
    "## Estructuras de datos"
   ]
  },
  {
   "cell_type": "markdown",
   "metadata": {},
   "source": [
    "### Lista (lista mutable)"
   ]
  },
  {
   "cell_type": "code",
   "execution_count": 76,
   "metadata": {
    "collapsed": true
   },
   "outputs": [],
   "source": [
    "lista = [21, 'cadena', True]\n",
    "lista: list = [21, 'cadena', True]\n",
    "lista_enteros: list[int] = [21, 45, 67]\n",
    "lista_enteros_o_cadenas: list[int | str] = [21, 45, 67, 'cadena']"
   ]
  },
  {
   "cell_type": "markdown",
   "metadata": {},
   "source": [
    "#### Operadores\n",
    "\n",
    "```python\n",
    "lista[i]\n",
    "lista[i:j]\n",
    "lista[i:j:k]\n",
    "lista.append(x)\n",
    "lista.extend(lista)\n",
    "lista.insert(i,x)\n",
    "lista.remove(x)\n",
    "lista.pop([i]) # i es opcional\n",
    "lista.index(x)\n",
    "lista.count(x)\n",
    "lista.sort()\n",
    "lista.reverse()\n",
    "```"
   ]
  },
  {
   "cell_type": "code",
   "execution_count": 75,
   "metadata": {
    "collapsed": true
   },
   "outputs": [
    {
     "name": "stdout",
     "output_type": "stream",
     "text": [
      "21\n",
      "[21, 'cadena', 30]\n",
      "[21, 'cadena', 30]\n",
      "[100, 100, True, 'cadena', 21, 100, True, 30, 'cadena', 21]\n"
     ]
    }
   ],
   "source": [
    "# Prueba estos operadores e indica su función\n",
    "# TODO\n",
    "print(lista[0]) #lista[i] posicion en lista\n",
    "print(lista[0:3]) #lista[i:j] intervalo --> i cerrado, j abierto\n",
    "print(lista[0:3:1]) #lista[i:j:k] Intervalo i:j con salto k\n",
    "lista.append(100) #lista.append(x)\n",
    "print(lista[-1::-1]) #Imprimir del reves \n",
    "lista.extend(lista) #extender la lista\n",
    "lista.insert(2, 30)\n",
    "lista.remove(100)\n",
    "lista.pop()\n",
    "lista.index(0)\n",
    "lista.count(21)\n",
    "lista.sort()\n",
    "lista.reverse()"
   ]
  },
  {
   "cell_type": "code",
   "execution_count": 77,
   "metadata": {},
   "outputs": [
    {
     "name": "stdout",
     "output_type": "stream",
     "text": [
      "[0, 1, 2, 3, 4, 5]\n"
     ]
    }
   ],
   "source": [
    "# TODO Crear una pila con una lista\n",
    "x = 5\n",
    "lista1 = [0,1,2,3,4,5]\n",
    "lista1.append(x+1)\n",
    "lista1.pop()\n",
    "print(lista1)"
   ]
  },
  {
   "cell_type": "code",
   "execution_count": 80,
   "metadata": {},
   "outputs": [
    {
     "name": "stdout",
     "output_type": "stream",
     "text": [
      "[2, 4, 6, 8, 10, 12]\n"
     ]
    }
   ],
   "source": [
    "# TODO Crear una cola con una lista\n",
    "lista2 = [0,2,4,6,8,10]\n",
    "lista2.append(12)\n",
    "lista2.pop(0)\n",
    "print(lista2)"
   ]
  },
  {
   "cell_type": "markdown",
   "metadata": {},
   "source": [
    "### Tupla (lista no mutable)\n",
    "```python\n",
    "(21, 'cadena', True)\n",
    "```"
   ]
  },
  {
   "cell_type": "code",
   "execution_count": 11,
   "metadata": {},
   "outputs": [],
   "source": [
    "tupla = (21, 'cadena', True)\n",
    "tupla = tuple([21, 'cadena', True])\n",
    "tupla: tuple = (21, 'cadena', True)\n",
    "tupla_enteros: tuple[int] = (21, 45, 67)\n",
    "tupla_variada: tuple[int, str, bool] = (21, 'cadena', True)"
   ]
  },
  {
   "cell_type": "markdown",
   "metadata": {},
   "source": [
    "### Conjunto (mutable)"
   ]
  },
  {
   "cell_type": "code",
   "execution_count": 4,
   "metadata": {
    "collapsed": true
   },
   "outputs": [
    {
     "name": "stdout",
     "output_type": "stream",
     "text": [
      "{67, 45, 21}\n"
     ]
    }
   ],
   "source": [
    "conjunto = {21, 'cadena', True}\n",
    "conjunto = set([21, 'cadena', True]) # set es un constructor de un conjunto\n",
    "conjunto: set = set([21, 'cadena', True]) \n",
    "conjunto_enteros: set[int] = set([21, 45, 67])\n",
    "print(conjunto_enteros)"
   ]
  },
  {
   "cell_type": "markdown",
   "metadata": {},
   "source": [
    "### Operadores\n",
    "```python\n",
    "conjunto.add(x)\n",
    "conjunto.remove(x) # Lanza excepción\n",
    "conjunto.discard(x) # No lanza excepción\n",
    "conjunto.pop()\n",
    "conjunto.update(conjunto)\n",
    "x in conjunto\n",
    "conjunto1 <= conjunto2\n",
    "conjunto1 >= conjunto2\n",
    "conjunto1 - conjunto2\n",
    "conjunto1 | conjunto2\n",
    "conjunto1 & conjunto2\n",
    "conjunto1 ^ conjunto2\n",
    "```"
   ]
  },
  {
   "cell_type": "code",
   "execution_count": 25,
   "metadata": {
    "collapsed": true
   },
   "outputs": [
    {
     "name": "stdout",
     "output_type": "stream",
     "text": [
      "{67, 21, 45}\n",
      "21\n",
      "True\n",
      "True\n",
      "True\n",
      "set()\n",
      "{67, 21, 45}\n",
      "{21, 67, 45}\n",
      "set()\n"
     ]
    }
   ],
   "source": [
    "# Prueba estos operadores e indica su función\n",
    "# TODO\n",
    "print(conjunto)\n",
    "conjunto.add(21)\n",
    "#conjunto.remove(2)\n",
    "conjunto.discard(2)\n",
    "print(conjunto.pop())\n",
    "conjunto.update(conjunto_enteros)\n",
    "print(67 in conjunto) #Devuelve true o false si el elemento esta en el conjunto\n",
    "print(conjunto <= conjunto_enteros) \n",
    "print(conjunto >= conjunto_enteros)\n",
    "print(conjunto - conjunto_enteros) \n",
    "print(conjunto | conjunto_enteros) #Union\n",
    "print(conjunto & conjunto_enteros) #Interseccion\n",
    "print(conjunto ^ conjunto_enteros) #Exclusivo"
   ]
  },
  {
   "cell_type": "markdown",
   "metadata": {},
   "source": [
    "### Conjunto (no mutable)\n",
    "```python\n",
    "frozenset([21, 'cadena', True])\n",
    "```\n",
    "### Diccionario o array asociativo"
   ]
  },
  {
   "cell_type": "code",
   "execution_count": 27,
   "metadata": {
    "collapsed": true
   },
   "outputs": [],
   "source": [
    "diccionario = {'k1': 1, 'k2': 2}\n",
    "diccionario = dict(k1=1, k2=2)\n",
    "diccionario: dict = {'k1': 1, 'k2': 2}\n",
    "diccionario: dict[str, int] = {'k1': 1, 'k2': 2}"
   ]
  },
  {
   "cell_type": "markdown",
   "metadata": {},
   "source": [
    "#### Operadores\n",
    "```python\n",
    "diccionario[clave] # Lanza excepción\n",
    "diccionario.get(clave) # No lanza excepción\n",
    "diccionario[clave] = valor\n",
    "clave in diccionario\n",
    "diccionario.keys()\n",
    "diccionario.items()\n",
    "```"
   ]
  },
  {
   "cell_type": "code",
   "execution_count": 36,
   "metadata": {
    "collapsed": true
   },
   "outputs": [
    {
     "name": "stdout",
     "output_type": "stream",
     "text": [
      "True\n",
      "dict_keys(['k1', 'k2', 'k3', 'k4'])\n",
      "dict_items([('k1', 1), ('k2', 2), ('k3', 3), ('k4', 4)])\n",
      "4\n"
     ]
    }
   ],
   "source": [
    "# Prueba estos operadores e indica su función\n",
    "# TODO\n",
    "#diccionario['k3'] Devuelve elemento asociado \n",
    "diccionario.get('k3')\n",
    "diccionario['k3'] = 3\n",
    "print('k3' in diccionario)\n",
    "print(diccionario.keys())\n",
    "print(diccionario.items())\n",
    "\n",
    "if ('k4' in diccionario):\n",
    "    print(diccionario['k4'])\n",
    "else:\n",
    "    diccionario['k4'] = 4"
   ]
  },
  {
   "cell_type": "markdown",
   "metadata": {},
   "source": [
    "## Métodos comunes\n",
    "\n",
    "### Borrar variables o elementos de una estructura de datos\n",
    "```python\n",
    "del variable\n",
    "del lista[i]\n",
    "del lista[i:k]\n",
    "```"
   ]
  },
  {
   "cell_type": "code",
   "execution_count": 40,
   "metadata": {},
   "outputs": [
    {
     "name": "stdout",
     "output_type": "stream",
     "text": [
      "[1, 2]\n"
     ]
    }
   ],
   "source": [
    "# TODO Borra los dos últimos elementos de la lista creada anteriormente\n",
    "numero = 4\n",
    "lista_test = [1,2,3,4]\n",
    "del numero\n",
    "#print(numero)\n",
    "del lista_test[-2:] #Borra los dos ultimos elementos de una lista de cuatro\n",
    "print(lista_test)"
   ]
  },
  {
   "cell_type": "markdown",
   "metadata": {},
   "source": [
    "### Longitud de una cadena o estructura de datos\n",
    "```python\n",
    "len(lista)\n",
    "len(cadena)\n",
    "```\n",
    "### Iterador de una estructura de datos\n",
    "```python\n",
    "iterador = iter(lista)\n",
    "iterador = iter(mapa)\n",
    "next(iterador) # Lanza excepción al terminar\n",
    "```"
   ]
  },
  {
   "cell_type": "code",
   "execution_count": 50,
   "metadata": {},
   "outputs": [
    {
     "ename": "StopIteration",
     "evalue": "",
     "output_type": "error",
     "traceback": [
      "\u001b[1;31m---------------------------------------------------------------------------\u001b[0m",
      "\u001b[1;31mStopIteration\u001b[0m                             Traceback (most recent call last)",
      "Cell \u001b[1;32mIn[50], line 7\u001b[0m\n\u001b[0;32m      5\u001b[0m \u001b[38;5;28mnext\u001b[39m(iterador)\n\u001b[0;32m      6\u001b[0m \u001b[38;5;28mnext\u001b[39m(iterador)\n\u001b[1;32m----> 7\u001b[0m \u001b[38;5;28;43mnext\u001b[39;49m\u001b[43m(\u001b[49m\u001b[43miterador\u001b[49m\u001b[43m)\u001b[49m\n",
      "\u001b[1;31mStopIteration\u001b[0m: "
     ]
    }
   ],
   "source": [
    "lista = [1,2,3,4]\n",
    "iterador = iter(lista)\n",
    "next(iterador)\n",
    "next(iterador)\n",
    "next(iterador)\n",
    "next(iterador)\n",
    "next(iterador)"
   ]
  },
  {
   "cell_type": "markdown",
   "metadata": {},
   "source": [
    "## Condiciones y bucles\n",
    "\n",
    "### Condiciones\n",
    "```python\n",
    "and, or, not\n",
    "<, >, ==, <=, >=\n",
    "in, not in\n",
    "is, is not # Objetos mutables\n",
    "```"
   ]
  },
  {
   "cell_type": "code",
   "execution_count": 53,
   "metadata": {},
   "outputs": [
    {
     "name": "stdout",
     "output_type": "stream",
     "text": [
      "True\n",
      "False\n"
     ]
    }
   ],
   "source": [
    "# TODO Crear dos variable que cumplan la condición == \n",
    "# y no cumplan la condición is\n",
    "lista1 = [1,2]\n",
    "lista2 = [1,2]\n",
    "print(lista1 == lista2)\n",
    "print(lista1 is lista2)"
   ]
  },
  {
   "cell_type": "markdown",
   "metadata": {},
   "source": [
    "### If else"
   ]
  },
  {
   "cell_type": "code",
   "execution_count": 54,
   "metadata": {},
   "outputs": [
    {
     "name": "stdout",
     "output_type": "stream",
     "text": [
      "True\n"
     ]
    }
   ],
   "source": [
    "var = True\n",
    "if var:\n",
    "    print(\"True\")\n",
    "elif not var:\n",
    "    print(\"False\")\n",
    "else:\n",
    "    print(\"Se ha roto el mundo.\")"
   ]
  },
  {
   "cell_type": "code",
   "execution_count": 55,
   "metadata": {},
   "outputs": [
    {
     "name": "stdout",
     "output_type": "stream",
     "text": [
      "2\n"
     ]
    }
   ],
   "source": [
    "var0 = None # Null\n",
    "\n",
    "if var0 is None: # Comprueba si está inicializada\n",
    "    var0 = 1 # Inicializamos\n",
    "\n",
    "var0+=1\n",
    "print(var0)"
   ]
  },
  {
   "cell_type": "code",
   "execution_count": 11,
   "metadata": {},
   "outputs": [
    {
     "name": "stdout",
     "output_type": "stream",
     "text": [
      "2\n"
     ]
    }
   ],
   "source": [
    "var0 = None # Null\n",
    "\n",
    "if not var0 : # No comprobar si una variable está inicializada con este método\n",
    "    var0 = 1 # Inicializamos\n",
    "\n",
    "var0+=1\n",
    "print(var0)"
   ]
  },
  {
   "cell_type": "markdown",
   "metadata": {},
   "source": [
    "¿Qué pasa si está inicializado a cero o False? ¿La comprobación funcionaría?"
   ]
  },
  {
   "cell_type": "code",
   "execution_count": 56,
   "metadata": {
    "collapsed": true
   },
   "outputs": [
    {
     "name": "stdout",
     "output_type": "stream",
     "text": [
      "2\n"
     ]
    }
   ],
   "source": [
    "var0 = 0\n",
    "\n",
    "if not var0 : # No comprobar si una variable está inicializada con este método\n",
    "    var0 = 1 # Inicializamos\n",
    "\n",
    "var0+=1\n",
    "print(var0)"
   ]
  },
  {
   "cell_type": "markdown",
   "metadata": {},
   "source": [
    "### While\n",
    "\n",
    "```python\n",
    "while condición:\n",
    "      código\n",
    "```"
   ]
  },
  {
   "cell_type": "code",
   "execution_count": 61,
   "metadata": {
    "collapsed": true
   },
   "outputs": [
    {
     "name": "stdout",
     "output_type": "stream",
     "text": [
      "10\n",
      "9\n",
      "8\n",
      "7\n",
      "6\n",
      "5\n",
      "4\n",
      "3\n",
      "2\n",
      "1\n",
      "0\n"
     ]
    }
   ],
   "source": [
    "#TODO Crear una cuenta atras con el bucle while\n",
    "i = 10    \n",
    "while i >= 0:\n",
    "    print(i)\n",
    "    i-=1\n"
   ]
  },
  {
   "cell_type": "markdown",
   "metadata": {},
   "source": [
    "### For\n",
    "```python\n",
    "for x in lista_set:\n",
    "    código\n",
    "    \n",
    "for x in lista[:]: # Itera sobre una copia\n",
    "    lista.pop()\n",
    "    \n",
    "for k,v in diccionario.items(): # Itera sobre las pares clave valor de un diccionario\n",
    "    código\n",
    "```"
   ]
  },
  {
   "cell_type": "code",
   "execution_count": 64,
   "metadata": {
    "collapsed": true
   },
   "outputs": [
    {
     "name": "stdout",
     "output_type": "stream",
     "text": [
      "4\n",
      "5\n",
      "6\n",
      "7\n",
      "5\n",
      "6\n",
      "7\n",
      "8\n"
     ]
    }
   ],
   "source": [
    "#TODO Mostrar las claves del diccionario creado anteriormente junto a su valor más uno\n",
    "for k,v in diccionario.items():\n",
    "    diccionario[k] = v+1\n",
    "    print(diccionario[k])\n",
    "\n",
    "for k in diccionario.items():\n",
    "    diccionario[k[0]] = k[1] + 1\n",
    "    print(diccionario[k[0]])"
   ]
  },
  {
   "cell_type": "markdown",
   "metadata": {},
   "source": [
    "### Range\n",
    "```python\n",
    "for i in range(longitud):\n",
    "    código\n",
    "    \n",
    "for i in range(inicio, fin):\n",
    "    código\n",
    "    \n",
    "for i in range(inicio, fin, incremento):\n",
    "    código\n",
    "```"
   ]
  },
  {
   "cell_type": "code",
   "execution_count": 73,
   "metadata": {
    "collapsed": true
   },
   "outputs": [
    {
     "name": "stdout",
     "output_type": "stream",
     "text": [
      "10\n",
      "9\n",
      "8\n",
      "7\n",
      "6\n",
      "5\n",
      "4\n",
      "3\n",
      "2\n",
      "1\n",
      "0\n"
     ]
    }
   ],
   "source": [
    "#TODO Crear una cuenta atras con el bucle for y haciendo uso de range\n",
    "for i in range (10, -1, -1):\n",
    "    print(i)"
   ]
  },
  {
   "cell_type": "markdown",
   "metadata": {},
   "source": [
    "### Break, continue, else, pass\n",
    "```python\n",
    "while condición:\n",
    "    if condición:\n",
    "        continue # Salta una iteración\n",
    "      \n",
    "while condición:\n",
    "    if condición:\n",
    "        break # Finaliza un bucle while o for\n",
    "\n",
    "while condición:\n",
    "    código\n",
    "else: # Se ejecuta cuando la condición es false, con break no se ejecuta\n",
    "    código\n",
    "    \n",
    "while True:\n",
    "    pass # No hace nada\n",
    "```"
   ]
  },
  {
   "cell_type": "markdown",
   "metadata": {},
   "source": [
    "# Conceptos no tan básicos\n",
    "\n",
    "## Programación funcional"
   ]
  },
  {
   "cell_type": "markdown",
   "metadata": {},
   "source": [
    "### Función anonima lambda\n",
    "```python\n",
    "lambda argumentos: codigo\n",
    "```"
   ]
  },
  {
   "cell_type": "code",
   "execution_count": 16,
   "metadata": {},
   "outputs": [
    {
     "data": {
      "text/plain": [
       "80"
      ]
     },
     "execution_count": 16,
     "metadata": {},
     "output_type": "execute_result"
    }
   ],
   "source": [
    "f = lambda x,y,z: x*y*z\n",
    "   \n",
    "f(4,4,5)"
   ]
  },
  {
   "cell_type": "markdown",
   "metadata": {},
   "source": [
    "### map\n",
    "```python\n",
    "map(función, secuencia, [secuencia])\n",
    "```"
   ]
  },
  {
   "cell_type": "code",
   "execution_count": 26,
   "metadata": {},
   "outputs": [
    {
     "data": {
      "text/plain": [
       "[0, 1, 4, 9]"
      ]
     },
     "execution_count": 26,
     "metadata": {},
     "output_type": "execute_result"
    }
   ],
   "source": [
    "def cuadrado(x): return x**2\n",
    "#Hay que hacer un casting a list para poder ver el contenido\n",
    "list(map(cuadrado, range(4)))"
   ]
  },
  {
   "cell_type": "code",
   "execution_count": 74,
   "metadata": {
    "collapsed": true
   },
   "outputs": [
    {
     "data": {
      "text/plain": [
       "[0, 1, 4, 9, 16]"
      ]
     },
     "execution_count": 74,
     "metadata": {},
     "output_type": "execute_result"
    }
   ],
   "source": [
    "#TODO definir la función cuadrado dentro de la función map (en linea) usando la función anonima lambda\n",
    "list(map(lambda x: x**2, range(5)))"
   ]
  },
  {
   "cell_type": "code",
   "execution_count": 76,
   "metadata": {
    "collapsed": true
   },
   "outputs": [
    {
     "data": {
      "text/plain": [
       "[4, 4, 4, 4, 4]"
      ]
     },
     "execution_count": 76,
     "metadata": {},
     "output_type": "execute_result"
    }
   ],
   "source": [
    "#TODO Crear una nueva lista con la suma del valor de los elementos \n",
    "# con el mismo indice de las lista l1 y l2 utilizando map\n",
    "\n",
    "l1 = range(5)\n",
    "l2 = range(4, -1, -1)\n",
    "list(map(lambda x,y:x+y, l1, l2))"
   ]
  },
  {
   "cell_type": "markdown",
   "metadata": {},
   "source": [
    "### filter\n",
    "```python\n",
    "filter(función, secuencia)\n",
    "```"
   ]
  },
  {
   "cell_type": "code",
   "execution_count": 33,
   "metadata": {},
   "outputs": [
    {
     "data": {
      "text/plain": [
       "[0, 2, 4, 6, 8]"
      ]
     },
     "execution_count": 33,
     "metadata": {},
     "output_type": "execute_result"
    }
   ],
   "source": [
    "es_par = lambda x: not x%2\n",
    "list(filter(es_par, range(10)))"
   ]
  },
  {
   "cell_type": "markdown",
   "metadata": {},
   "source": [
    "### reduce\n",
    "```python\n",
    "functools.reduce(función, secuencia)\n",
    "```"
   ]
  },
  {
   "cell_type": "code",
   "execution_count": 30,
   "metadata": {},
   "outputs": [
    {
     "data": {
      "text/plain": [
       "24"
      ]
     },
     "execution_count": 30,
     "metadata": {},
     "output_type": "execute_result"
    }
   ],
   "source": [
    "import functools\n",
    "\n",
    "functools.reduce(lambda x,y: x*y, range(1, 5))"
   ]
  },
  {
   "cell_type": "markdown",
   "metadata": {},
   "source": [
    "## Listas comprendidas\n",
    "\n",
    "```python\n",
    "[x for x in data_struct]\n",
    "\n",
    "[x for x in data_struct if condition]\n",
    "\n",
    "[(x,y) for x in data_struct for y in data_struct]\n",
    "\n",
    "[[x+y for x in data_struct] for y in data_struct]\n",
    "```"
   ]
  },
  {
   "cell_type": "code",
   "execution_count": 28,
   "metadata": {},
   "outputs": [
    {
     "data": {
      "text/plain": [
       "[0, 1, 2, 3, 4, 5, 6, 7, 8, 9]"
      ]
     },
     "execution_count": 28,
     "metadata": {},
     "output_type": "execute_result"
    }
   ],
   "source": [
    "# Lista del 0 al 9. Sí, se puede hacer direcamente con range\n",
    "[x for x in range(10)]"
   ]
  },
  {
   "cell_type": "code",
   "execution_count": 29,
   "metadata": {},
   "outputs": [
    {
     "data": {
      "text/plain": [
       "[(0, 0, 0),\n",
       " (0, 0, 1),\n",
       " (0, 1, 0),\n",
       " (0, 1, 1),\n",
       " (1, 0, 0),\n",
       " (1, 0, 1),\n",
       " (1, 1, 0),\n",
       " (1, 1, 1)]"
      ]
     },
     "execution_count": 29,
     "metadata": {},
     "output_type": "execute_result"
    }
   ],
   "source": [
    "# Combinatoria posible para tres números binarios\n",
    "binario = [0,1]\n",
    "[(x,y,z) for x in binario for y in binario for z in binario]"
   ]
  },
  {
   "cell_type": "code",
   "execution_count": 90,
   "metadata": {},
   "outputs": [
    {
     "data": {
      "text/plain": [
       "[[0, 1, 2, 3, 4],\n",
       " [1, 2, 3, 4, 5],\n",
       " [2, 3, 4, 5, 6],\n",
       " [3, 4, 5, 6, 7],\n",
       " [4, 5, 6, 7, 8]]"
      ]
     },
     "execution_count": 90,
     "metadata": {},
     "output_type": "execute_result"
    }
   ],
   "source": [
    "# Matriz de distancias Manhattan a la coordenada (0,0)\n",
    "[[x+y for x in range(5)] for y in range(5)]"
   ]
  },
  {
   "cell_type": "markdown",
   "metadata": {},
   "source": [
    "### map"
   ]
  },
  {
   "cell_type": "code",
   "execution_count": 32,
   "metadata": {
    "collapsed": true
   },
   "outputs": [],
   "source": [
    "# TODO Crear mediante listas comprendidas una lista \n",
    "# con los cuadrados de los números del 0 al 4\n"
   ]
  },
  {
   "cell_type": "markdown",
   "metadata": {},
   "source": [
    "### filter"
   ]
  },
  {
   "cell_type": "code",
   "execution_count": 35,
   "metadata": {
    "collapsed": true
   },
   "outputs": [],
   "source": [
    "# TODO Crear mediante listas comprendidas una lista \n",
    "# con los números pares de los números del 0 al 10\n"
   ]
  },
  {
   "cell_type": "code",
   "execution_count": 37,
   "metadata": {},
   "outputs": [
    {
     "name": "stdout",
     "output_type": "stream",
     "text": [
      "[1, 2, 3, 4, 5, 6, 7, 8, 9, 10]\n"
     ]
    },
    {
     "data": {
      "text/plain": [
       "[False, True, False, True, False, True, False, True, False, True]"
      ]
     },
     "execution_count": 37,
     "metadata": {},
     "output_type": "execute_result"
    }
   ],
   "source": [
    "#Lista con un booleano indicando si los números del uno al 10 son pares o no\n",
    "print(list(range(1, 11)))\n",
    "[True if not x%2 else False for x in range(1, 11)]"
   ]
  },
  {
   "cell_type": "markdown",
   "metadata": {},
   "source": [
    "# Funciones\n",
    "## Definición\n",
    "```python\n",
    "# sin tipado\n",
    "def funcion(argumentos):\n",
    "    codigo\n",
    "\n",
    "# con tipado\n",
    "def funcion(argumento: tipo) -> tipo_devuelto:\n",
    "    codigo\n",
    "\n",
    "f(argumento)\n",
    "\n",
    "# sin tipado\n",
    "f = funcion\n",
    "\n",
    "# con tipado\n",
    "f: Callable[[tipo_argumento_1, tipo_argumento_2], tipo_devuelto] = funcion\n",
    "\n",
    "f(argumentos)\n",
    "```\n",
    "## Parametros por defecto\n",
    "\n",
    "```python\n",
    "# sin tipado\n",
    "def funcion(arg1, arg2=val2): # Valor por defecto val2 para arg2\n",
    "    Codigo\n",
    "\n",
    "# con tipado\n",
    "def funcion(arg1: tipo, arg2: tipo = val2): # Valor por defecto val2 para arg2\n",
    "    Codigo\n",
    "\n",
    "funcion(val1)\n",
    "funcion(val1, arg2)\n",
    "funcion(val1, arg2=val2)\n",
    "funcion(arg2=val2, arg1=val1)\n",
    "```"
   ]
  },
  {
   "cell_type": "markdown",
   "metadata": {},
   "source": [
    "## Argumentos indefinidos\n",
    "### Lista de argumentos sin nombre\n",
    "```python\n",
    "# sin tipado\n",
    "def funcion(*lista):\n",
    "    for argumento in lista:\n",
    "        codigo\n",
    "\n",
    "# con tipado\n",
    "def funcion(*lista: tipo) -> tipo:\n",
    "    for argumento in lista:\n",
    "        codigo\n",
    "```"
   ]
  },
  {
   "cell_type": "code",
   "execution_count": 23,
   "metadata": {},
   "outputs": [
    {
     "name": "stdout",
     "output_type": "stream",
     "text": [
      "3\n",
      "10\n"
     ]
    }
   ],
   "source": [
    "def suma(*numeros: int) -> int:\n",
    "    import functools\n",
    "    return functools.reduce(lambda x,y: x+y, numeros)\n",
    "\n",
    "print(suma(1,2))\n",
    "print(suma(1,2,3,4))"
   ]
  },
  {
   "cell_type": "markdown",
   "metadata": {},
   "source": [
    "### Lista de argumentos con nombre\n",
    "```python\n",
    "# sin tipado      \n",
    "def funcion(arg1, arg2, **diccionario):\n",
    "    for k,v in diccionario.items():\n",
    "        codigo\n",
    "\n",
    "# con tipado      \n",
    "def funcion(arg1: tipo, arg2: tipo, **diccionario: tipo) -> tipo:\n",
    "    for k,v in diccionario.items():\n",
    "        codigo\n",
    "\n",
    "funcion(val1, val2, arg3=val3, arg4=val4)\n",
    "```\n",
    "\n",
    "## Desempaquetado de argumentos\n",
    "Podemos pasar los argumentos como una lista o un diccionario\n",
    "```python \n",
    "\n",
    "def funcion(val3, arg4=val4):\n",
    "    codigo\n",
    "    \n",
    "diccionario = {arg3: val3, arg4: val4}\n",
    "funcion(**diccionario) # ** desempaqueta el diccionario\n",
    "```"
   ]
  },
  {
   "cell_type": "markdown",
   "metadata": {},
   "source": [
    "# Clases\n",
    "\n",
    "## Sintaxis\n",
    "```python\n",
    "class NombreClase: # Hereda de la clase Object\n",
    "    codigo\n",
    "```\n",
    "\n",
    "## Constructor\n",
    "```python\n",
    "# sin tipado\n",
    "class NombreClase:\n",
    "    def __init__(self, argumento):\n",
    "        self.variable = argumento\n",
    "\n",
    "#con tipado\n",
    "class NombreClase:\n",
    "    # El constructor no devuelve nada\n",
    "    def __init__(self, argumento: str) -> None:\n",
    "        # no es necesario definir el tipo ya que lo puede inferir del argumento\n",
    "        self.variable : str = argumento\n",
    "```\n",
    "\n",
    "## Instancia\n",
    "```python\n",
    "#sin tipado\n",
    "miClase = NombreClase(argumento)\n",
    "miClase.variable = nuevoValor\n",
    "\n",
    "#con tipado\n",
    "miClase: NombreClase = NombreClase(argumento)\n",
    "miClase.variable = nuevoValor\n",
    "```"
   ]
  },
  {
   "cell_type": "code",
   "execution_count": 43,
   "metadata": {
    "collapsed": true
   },
   "outputs": [],
   "source": [
    "# TODO ¿Qué diferencia hay entre la \n",
    "# variable lista de la clase1 y la clase 2?\n",
    "class Clase1:\n",
    "    var = 0\n",
    "    def __init__(self):\n",
    "        pass\n",
    "\n",
    "class Clase2:\n",
    "    def __init__(self):\n",
    "        var = 0"
   ]
  },
  {
   "cell_type": "markdown",
   "metadata": {},
   "source": [
    "## Herencia\n",
    "```python\n",
    "class NombreClase(ClasePadre):\n",
    "    def __init__(self, argumentos):\n",
    "        ClasePadre.__init__()\n",
    "    def metodo(self):\n",
    "        ClasePadre.metodo()\n",
    "\n",
    "class NombreClase(ClasePadre):\n",
    "    def __init__(self, argumentos):\n",
    "        super().__init__()\n",
    "    def metodo(self):\n",
    "        super().metodo()\n",
    "        \n",
    "class NombreClase(ClasePadre1, ClasePadre2,...):\n",
    "    codigo\n",
    "```\n",
    "\n",
    "## Variables y métodos privados\n",
    "No existen en python. No obstante, hay una convención que dice que si una variable esta precedida de un guión bajo, es una variable o método privado.\n",
    "\n",
    "```python\n",
    "class NombreClase:\n",
    "    def __init__(self, argumentos):\n",
    "        self._variable_privada = argumento\n",
    "    def set_variable_privada(self, argumento):\n",
    "        self._variable_privada = argumento\n",
    "    def _metodo_privado(self):\n",
    "        pass\n",
    "```\n",
    "\n",
    "### Property: Analogo a getter y setter\n",
    "```python\n",
    "class NombreClase:\n",
    "    def __init__(self, argumentos):\n",
    "        self._variable_privada = argumento\n",
    "    \n",
    "    @property #decorador getter\n",
    "    def variable_privada(self):\n",
    "        return self._variable_privada\n",
    "        \n",
    "    @variable_privada.setter # decorador setter\n",
    "    def variable_privada(self, argumento):\n",
    "        self._variable_privada = argumento\n",
    "```"
   ]
  },
  {
   "cell_type": "code",
   "execution_count": 54,
   "metadata": {},
   "outputs": [],
   "source": [
    "# TODO Crear una clase cuyo metodo constructor reciba un diccionario\n",
    "# como argumento e inicialice tantas variables del objecto como\n",
    "# elementos tenga el diccionario. La clave sera el nombre de la\n",
    "# variable y el valor su valor.\n",
    "# self.valor_clave contiene valor del diccionario\n"
   ]
  },
  {
   "cell_type": "code",
   "execution_count": 25,
   "metadata": {},
   "outputs": [
    {
     "name": "stdout",
     "output_type": "stream",
     "text": [
      "{'nombre': 'Elena', 'apellido': 'Ramos'}\n",
      "{'nombre': 'Pedro', 'apellido': 'Gila'}\n",
      "{'nombre': 'Julia', 'apellido': 'Ortiz'}\n"
     ]
    }
   ],
   "source": [
    "# TODO Crear una clase cuyo metodo constructor reciba un diccionario\n",
    "# como argumento e inicialice tantas variables del objecto como\n",
    "# elementos tenga el diccionario. La clave sera el nombre de la\n",
    "# variable y el valor su valor.\n",
    "# self.valor_clave contiene valor del diccionario\n",
    "\n",
    "\n",
    "# SOLCUIÓN\n",
    "class Profesor:\n",
    "    def __init__(self, **dict):\n",
    "        self.__dict__.update(dict)\n",
    "      \n",
    "p1 = Profesor(**{\"nombre\": \"Pablo\", \"apellido\": \"Ramos\"})\n",
    "p2 = Profesor(nombre=\"Pablo\", apellido=\"Ramos\")\n",
    "\n",
    "datos_profesores = [{\"nombre\": \"Elena\", \"apellido\": \"Ramos\"},{\"nombre\": \"Pedro\", \"apellido\": \"Gila\"},{\"nombre\": \"Julia\", \"apellido\": \"Ortiz\"}]\n",
    "profesores = []\n",
    "for p in datos_profesores:\n",
    "    profesores.append(Profesor(**p))\n",
    "    \n",
    "for p in profesores:\n",
    "  print(p.__dict__)"
   ]
  }
 ],
 "metadata": {
  "kernelspec": {
   "display_name": "Python 3",
   "language": "python",
   "name": "python3"
  },
  "language_info": {
   "codemirror_mode": {
    "name": "ipython",
    "version": 3
   },
   "file_extension": ".py",
   "mimetype": "text/x-python",
   "name": "python",
   "nbconvert_exporter": "python",
   "pygments_lexer": "ipython3",
   "version": "3.12.6"
  }
 },
 "nbformat": 4,
 "nbformat_minor": 2
}
